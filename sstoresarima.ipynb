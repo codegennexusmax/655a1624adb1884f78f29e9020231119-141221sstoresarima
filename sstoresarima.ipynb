{
 "cells": [
  {
   "cell_type": "markdown",
   "id": "74184452",
   "metadata": {},
   "source": [
    "***GENERATED CODE FOR sstoresarima PIPELINE.***"
   ]
  },
  {
   "cell_type": "markdown",
   "id": "5eac11cd",
   "metadata": {},
   "source": [
    "***DON'T EDIT THIS CODE.***"
   ]
  },
  {
   "cell_type": "markdown",
   "id": "5a5d9cf9",
   "metadata": {},
   "source": [
    "***CONNECTOR FUNCTIONS TO READ DATA.***"
   ]
  },
  {
   "cell_type": "code",
   "execution_count": null,
   "id": "94359acd",
   "metadata": {},
   "outputs": [],
   "source": [
    "import os\n",
    "import datetime\n",
    "import logging\n",
    "import warnings\n",
    "warnings.filterwarnings('ignore')\n",
    "logging.basicConfig(format='%(levelname)s:%(message)s', level=logging.INFO)\n",
    "\n",
    "\n",
    "class HDFSConnector:\n",
    "\n",
    "    def fetch(spark, config):\n",
    "        ################### INPUT HADOOP HOST PORT TO CONNECT WITH ###############################\n",
    "        hdfs_server = str(os.environ['HDFS_SERVER'])\n",
    "        hdfs_port = int(os.environ['HDFS_PORT'])\n",
    "        df = spark.read.options(header='true', inferschema='true').csv(\n",
    "            f\"hdfs://{hdfs_server}:{hdfs_port}{eval(config)['url']}\", header='true')\n",
    "        display(df.limit(2).toPandas())\n",
    "        return df\n",
    "\n",
    "    def put(df, spark, config):\n",
    "        return df.write.format('csv').options(header='true' if eval(config)[\"is_header\"] == \"Use Header Line\" else 'false',\n",
    "                                              delimiter=eval(config)[\"delimiter\"]).save((\"%s %s\") % (datetime.datetime.now().strftime(\"%Y-%m-%d %H.%M.%S\")+\"_\", eval(config)['url']))\n"
   ]
  },
  {
   "cell_type": "markdown",
   "id": "1fc11b96",
   "metadata": {},
   "source": [
    "***TRANSFORMATIONS FUNCTIONS THAT WILL BE APPLIED ON DATA***"
   ]
  },
  {
   "cell_type": "code",
   "execution_count": null,
   "id": "7cf08979",
   "metadata": {},
   "outputs": [],
   "source": [
    "import json\n",
    "import pyspark\n",
    "from pyspark.sql.functions import col, when\n",
    "from pyspark.sql.functions import mean, stddev, min, max, col\n",
    "\n",
    "\n",
    "class CleanseData:\n",
    "    # def __init__(self,df):\n",
    "    #     #print()\n",
    "\n",
    "    def cleanValueForFE(self, value):\n",
    "        if value == None:\n",
    "            return \"\"\n",
    "        elif str(value) == 'nan':\n",
    "            return \"nan\"\n",
    "        else:\n",
    "            return value\n",
    "\n",
    "    def replaceByMean(self, feature, df, mean_=-1):\n",
    "        df1 = df\n",
    "        df1 = df1.dropna()\n",
    "        meanValue = self.cleanValueForFE(df1.select(\n",
    "            mean(col(feature.name)).alias('mean')).collect()[0][\"mean\"])\n",
    "        df = df.fillna(meanValue, subset=[feature.name])\n",
    "        df.withColumn(feature.name, when(col(feature.name) == \" \",\n",
    "                      meanValue).otherwise(col(feature.name).cast(\"Integer\")))\n",
    "        return df\n",
    "\n",
    "    def replaceByMax(self, feature, df, max_=-1):\n",
    "        df1 = df\n",
    "        df1 = df1.dropna()\n",
    "        maxValue = self.cleanValueForFE(df1.select(\n",
    "            max(col(feature.name)).alias('max')).collect()[0][\"max\"])\n",
    "        df = df.fillna(maxValue, subset=[feature.name])\n",
    "        df = df.withColumn(feature.name,\n",
    "                           when(col(feature.name) == \" \", maxValue).otherwise(col(feature.name)))\n",
    "        return df\n",
    "\n",
    "    def replaceByMin(self, feature, df, min_=-1):\n",
    "        df1 = df\n",
    "        df1 = df1.dropna()\n",
    "        minValue = self.cleanValueForFE(df1.select(\n",
    "            min(col(feature.name)).alias('min')).collect()[0][\"min\"])\n",
    "        df = df.fillna(minValue, subset=[feature.name])\n",
    "        df = df.withColumn(feature.name,\n",
    "                           when(col(feature.name) == \" \", minValue).otherwise(col(feature.name)))\n",
    "        return df\n",
    "\n",
    "    def replaceByStandardDeviation(self, feature, df, stddev_=-1):\n",
    "        df1 = df\n",
    "        df1 = df1.dropna()\n",
    "        stddevValue = self.cleanValueForFE(df1.select(\n",
    "            stddev(col(feature.name)).alias('stddev')).collect()[0][\"stddev\"])\n",
    "        df = df.fillna(stddevValue, subset=[feature.name])\n",
    "        df = df.withColumn(feature.name,\n",
    "                           when(col(feature.name) == \" \", stddevValue).otherwise(col(feature.name)))\n",
    "        return df\n",
    "\n",
    "    def replaceDateRandomly(self, feature, df):\n",
    "        df1 = df\n",
    "        df1 = df1.dropna()\n",
    "        fillValue = self.cleanValueForFE(\n",
    "            df.where(col(feature.name).isNotNull()).head(1)[0][feature.name])\n",
    "        df = df.fillna(str(fillValue), subset=[feature.name])\n",
    "        df = df.withColumn(feature.name,\n",
    "                           when(col(feature.name) == \" \", fillValue).otherwise(col(feature.name)))\n",
    "        # print(\"CleanseData:replaceDateRandomly Schema : \", df.#printSchema())\n",
    "        return df\n",
    "\n",
    "    def replaceNullValues(self, fList, df):\n",
    "        featuresList = df.schema.fields\n",
    "        for featureObj in fList:\n",
    "            for feat in featuresList:\n",
    "                if featureObj[\"feature\"] in feat.name:\n",
    "                    featureName = feat\n",
    "                    if \"mean\" in featureObj[\"replaceby\"]:\n",
    "                        df = self.replaceByMean(featureName, df)\n",
    "                    elif \"max\" in featureObj[\"replaceby\"]:\n",
    "                        df = self.replaceByMax(featureName, df)\n",
    "                    elif \"min\" in featureObj[\"replaceby\"]:\n",
    "                        df = self.replaceByMin(featureName, df)\n",
    "                    elif \"stddev\" in featureObj[\"replaceby\"]:\n",
    "                        df = self.replaceByStandardDeviation(featureName, df)\n",
    "                    elif \"random\" in featureObj[\"replaceby\"]:\n",
    "                        df = self.replaceDateRandomly(featureName, df)\n",
    "        return df\n",
    "\n",
    "\n",
    "class TransformationTimeSeriesForecastingMain:\n",
    "    # TODO: change df argument in run with following\n",
    "    def run(transformationDF, config):\n",
    "        configObj = json.loads(config)\n",
    "        featureData = configObj[\"FE\"]['featureList']\n",
    "        ForecastFE = configObj[\"FE\"]\n",
    "        featuresSelectedList = [ForecastFE['features']\n",
    "                                ['timecolumn'], ForecastFE['features']['tocompare']]\n",
    "        transformedDF = transformationDF.select(\n",
    "            [c for c in transformationDF.columns if c in featuresSelectedList])\n",
    "        transformedDF = CleanseData().replaceNullValues(featureData, transformedDF)\n",
    "\n",
    "        transformedDF.persist(pyspark.StorageLevel.MEMORY_AND_DISK)\n",
    "        df = transformedDF.toPandas()\n",
    "        return df\n"
   ]
  },
  {
   "cell_type": "markdown",
   "id": "0d33af58",
   "metadata": {},
   "source": [
    "***AUTOML FUNCTIONS***"
   ]
  },
  {
   "cell_type": "code",
   "execution_count": null,
   "id": "4710edfa",
   "metadata": {},
   "outputs": [],
   "source": [
    "import numpy as np\n",
    "import pandas as pd\n",
    "from matplotlib import pyplot as plt\n",
    "from statsmodels.tsa.seasonal import seasonal_decompose\n",
    "from statsmodels.tsa.arima_model import ARIMA\n",
    "import datetime\n",
    "\n",
    "\n",
    "def driverArima(df):\n",
    "    objARIMA = ARIMA(df, order=[2, 1, 2])\n",
    "    model = objARIMA.fit(disp=-1)\n",
    "    print(model.summary().tables[0])\n",
    "    print(model.summary().tables[1]\n",
    "    modelData={\"model\": model, \"X_label\": list(df.reset_index().columns)[0],\n",
    "                \"y_label\": list(df.reset_index().columns)[1]}\n",
    "    return modelData\n"
   ]
  },
  {
   "cell_type": "markdown",
   "id": "131f5d6c",
   "metadata": {},
   "source": [
    "***READING DATAFRAME***"
   ]
  },
  {
   "cell_type": "code",
   "execution_count": null,
   "id": "477f9701",
   "metadata": {},
   "outputs": [],
   "source": [
    "############## CREATE SPARK SESSION ############################ ENTER YOUR SPARK MASTER IP AND PORT TO CONNECT TO SERVER ################\n",
    "from pyspark.sql import SparkSession\n",
    "spark = SparkSession.builder.master('local[1]').getOrCreate()\n",
    "#%run sstoresarimaHooks.ipynb\n",
    "try:\n",
    "\t#sourcePreExecutionHook()\n",
    "\n",
    "\tsstoressalescurrent = HDFSConnector.fetch(spark, \"{'url': '/FileStore/platform/uploadedSourceFiles/SStores_Sales_Current.csv', 'filename': 'SStores_Sales_Current.csv', 'delimiter': ',', 'file_type': 'Delimeted', 'dbfs_token': '', 'dbfs_domain': '', 'is_header': 'Use Header Line', 'server_url': '/numtraPlatform/NumtraPlatformV3/uploads/platform/', 'results_url': 'http://ml.numtra.com:44040/api/read/hdfs'}\")\n",
    "\n",
    "except Exception as ex: \n",
    "\tlogging.error(ex)\n",
    "#spark.stop()\n"
   ]
  },
  {
   "cell_type": "markdown",
   "id": "766a46ca",
   "metadata": {},
   "source": [
    "***TRANSFORMING DATAFRAME***"
   ]
  },
  {
   "cell_type": "code",
   "execution_count": null,
   "id": "966b18c8",
   "metadata": {},
   "outputs": [],
   "source": [
    "#%run sstoresarimaHooks.ipynb\n",
    "try:\n",
    "\t#transformationPreExecutionHook()\n",
    "\n",
    "\ttimeseriesfe = TransformationTimeSeriesForecastingMain.run(sstoressalescurrent, json.dumps( {\"FE\": {\"functionList\": [{\"function\": \"Original\"}], \"stage_attributes\": {}, \"featureList\": [{\"transformationsData\": [{}], \"feature\": \"Order_Date\", \"type\": \"date\", \"selected\": \"True\", \"replaceby\": \"random\", \"stats\": {\"count\": \"\", \"mean\": \"\", \"stddev\": \"\", \"min\": \"\", \"max\": \"\", \"missing\": \"0\"}, \"transformation\": [{\"transformation\": \"novalue\", \"selectedAsDefault\": 1}], \"updatedLabel\": \"Order_Date\"}, {\"transformationsData\": [{\"transformation_label\": \"novalue\"}], \"feature\": \"Sales\", \"type\": \"real\", \"selected\": \"True\", \"replaceby\": \"mean\", \"stats\": {\"count\": \"500\", \"mean\": \"1255.3\", \"stddev\": \"2154.82\", \"min\": \"3.93\", \"max\": \"28106.72\", \"missing\": \"0\"}, \"transformation\": [{\"transformation\": \"novalue\", \"selectedAsDefault\": 1}], \"updatedLabel\": \"Sales\"}, {\"transformationsData\": [{\"transformation_label\": \"novalue\"}], \"feature\": \"Ship Mode_First Class\", \"transformation\": [{\"transformation\": \"novalue\", \"selectedAsDefault\": 1}], \"type\": \"numeric\", \"replaceby\": \"mean\", \"selected\": \"True\", \"stats\": {\"count\": \"500\", \"mean\": \"0.72\", \"stddev\": \"1.52\", \"min\": \"0\", \"max\": \"11\", \"missing\": \"0\"}, \"updatedLabel\": \"Ship Mode_First Class\"}, {\"transformationsData\": [{\"transformation_label\": \"novalue\"}], \"feature\": \"Ship Mode_Same Day\", \"transformation\": [{\"transformation\": \"novalue\", \"selectedAsDefault\": 1}], \"type\": \"numeric\", \"replaceby\": \"mean\", \"selected\": \"True\", \"stats\": {\"count\": \"500\", \"mean\": \"0.22\", \"stddev\": \"0.81\", \"min\": \"0\", \"max\": \"8\", \"missing\": \"0\"}, \"updatedLabel\": \"Ship Mode_Same Day\"}, {\"transformationsData\": [{\"transformation_label\": \"novalue\"}], \"feature\": \"Ship Mode_Second Class\", \"transformation\": [{\"transformation\": \"novalue\", \"selectedAsDefault\": 1}], \"type\": \"numeric\", \"replaceby\": \"mean\", \"selected\": \"True\", \"stats\": {\"count\": \"500\", \"mean\": \"0.99\", \"stddev\": \"1.86\", \"min\": \"0\", \"max\": \"12\", \"missing\": \"0\"}, \"updatedLabel\": \"Ship Mode_Second Class\"}, {\"transformationsData\": [{\"transformation_label\": \"novalue\"}], \"feature\": \"Ship Mode_Standard Class\", \"transformation\": [{\"transformation\": \"novalue\", \"selectedAsDefault\": 1}], \"type\": \"numeric\", \"replaceby\": \"mean\", \"selected\": \"True\", \"stats\": {\"count\": \"500\", \"mean\": \"3.16\", \"stddev\": \"3.59\", \"min\": \"0\", \"max\": \"24\", \"missing\": \"0\"}, \"updatedLabel\": \"Ship Mode_Standard Class\"}, {\"transformationsData\": [{\"transformation_label\": \"novalue\"}], \"feature\": \"Segment_Consumer\", \"transformation\": [{\"transformation\": \"novalue\", \"selectedAsDefault\": 1}], \"type\": \"numeric\", \"replaceby\": \"mean\", \"selected\": \"True\", \"stats\": {\"count\": \"500\", \"mean\": \"2.71\", \"stddev\": \"3.34\", \"min\": \"0\", \"max\": \"19\", \"missing\": \"0\"}, \"updatedLabel\": \"Segment_Consumer\"}, {\"transformationsData\": [{\"transformation_label\": \"novalue\"}], \"feature\": \"Segment_Corporate\", \"transformation\": [{\"transformation\": \"novalue\", \"selectedAsDefault\": 1}], \"type\": \"numeric\", \"replaceby\": \"mean\", \"selected\": \"True\", \"stats\": {\"count\": \"500\", \"mean\": \"1.56\", \"stddev\": \"2.25\", \"min\": \"0\", \"max\": \"11\", \"missing\": \"0\"}, \"updatedLabel\": \"Segment_Corporate\"}, {\"transformationsData\": [{\"transformation_label\": \"novalue\"}], \"feature\": \"Segment_Home Office\", \"transformation\": [{\"transformation\": \"novalue\", \"selectedAsDefault\": 1}], \"type\": \"numeric\", \"replaceby\": \"mean\", \"selected\": \"True\", \"stats\": {\"count\": \"500\", \"mean\": \"0.82\", \"stddev\": \"1.65\", \"min\": \"0\", \"max\": \"11\", \"missing\": \"0\"}, \"updatedLabel\": \"Segment_Home Office\"}, {\"transformationsData\": [{\"transformation_label\": \"novalue\"}], \"feature\": \"Country_United States\", \"transformation\": [{\"transformation\": \"novalue\", \"selectedAsDefault\": 1}], \"type\": \"numeric\", \"replaceby\": \"mean\", \"selected\": \"True\", \"stats\": {\"count\": \"500\", \"mean\": \"5.09\", \"stddev\": \"5.09\", \"min\": \"0\", \"max\": \"27\", \"missing\": \"0\"}, \"updatedLabel\": \"Country_United States\"}, {\"transformationsData\": [{\"transformation_label\": \"novalue\"}], \"feature\": \"Region_Central\", \"transformation\": [{\"transformation\": \"novalue\", \"selectedAsDefault\": 1}], \"type\": \"numeric\", \"replaceby\": \"mean\", \"selected\": \"True\", \"stats\": {\"count\": \"500\", \"mean\": \"1.19\", \"stddev\": \"2.11\", \"min\": \"0\", \"max\": \"17\", \"missing\": \"0\"}, \"updatedLabel\": \"Region_Central\"}, {\"transformationsData\": [{\"transformation_label\": \"novalue\"}], \"feature\": \"Region_East\", \"transformation\": [{\"transformation\": \"novalue\", \"selectedAsDefault\": 1}], \"type\": \"numeric\", \"replaceby\": \"mean\", \"selected\": \"True\", \"stats\": {\"count\": \"500\", \"mean\": \"1.38\", \"stddev\": \"2.24\", \"min\": \"0\", \"max\": \"13\", \"missing\": \"0\"}, \"updatedLabel\": \"Region_East\"}, {\"transformationsData\": [{\"transformation_label\": \"novalue\"}], \"feature\": \"Region_South\", \"transformation\": [{\"transformation\": \"novalue\", \"selectedAsDefault\": 1}], \"type\": \"numeric\", \"replaceby\": \"mean\", \"selected\": \"True\", \"stats\": {\"count\": \"500\", \"mean\": \"0.86\", \"stddev\": \"1.6\", \"min\": \"0\", \"max\": \"9\", \"missing\": \"0\"}, \"updatedLabel\": \"Region_South\"}, {\"transformationsData\": [{\"transformation_label\": \"novalue\"}], \"feature\": \"Region_West\", \"transformation\": [{\"transformation\": \"novalue\", \"selectedAsDefault\": 1}], \"type\": \"numeric\", \"replaceby\": \"mean\", \"selected\": \"True\", \"stats\": {\"count\": \"500\", \"mean\": \"1.66\", \"stddev\": \"2.48\", \"min\": \"0\", \"max\": \"12\", \"missing\": \"0\"}, \"updatedLabel\": \"Region_West\"}, {\"transformationsData\": [{\"transformation_label\": \"novalue\"}], \"feature\": \"Category_Furniture\", \"transformation\": [{\"transformation\": \"novalue\", \"selectedAsDefault\": 1}], \"type\": \"numeric\", \"replaceby\": \"mean\", \"selected\": \"True\", \"stats\": {\"count\": \"500\", \"mean\": \"1.1\", \"stddev\": \"1.48\", \"min\": \"0\", \"max\": \"8\", \"missing\": \"0\"}, \"updatedLabel\": \"Category_Furniture\"}, {\"transformationsData\": [{\"transformation_label\": \"novalue\"}], \"feature\": \"Category_Office Supplies\", \"transformation\": [{\"transformation\": \"novalue\", \"selectedAsDefault\": 1}], \"type\": \"numeric\", \"replaceby\": \"mean\", \"selected\": \"True\", \"stats\": {\"count\": \"500\", \"mean\": \"3.05\", \"stddev\": \"3.21\", \"min\": \"0\", \"max\": \"17\", \"missing\": \"0\"}, \"updatedLabel\": \"Category_Office Supplies\"}, {\"transformationsData\": [{\"transformation_label\": \"novalue\"}], \"feature\": \"Category_Technology\", \"transformation\": [{\"transformation\": \"novalue\", \"selectedAsDefault\": 1}], \"type\": \"numeric\", \"replaceby\": \"mean\", \"selected\": \"True\", \"stats\": {\"count\": \"500\", \"mean\": \"0.94\", \"stddev\": \"1.32\", \"min\": \"0\", \"max\": \"7\", \"missing\": \"0\"}, \"updatedLabel\": \"Category_Technology\"}], \"features\": {\"timecolumn\": \"Order_Date\", \"tocompare\": \"Sales\"}, \"dataPercentage\": \"10\", \"originalfile\": \"/FileStore/platform/uploadedSourceFiles/SStores_Sales_Current.csv\", \"statFunction\": {\"function\": \"Original\", \"parameter\": \"\"}}}))\n",
    "\n",
    "\t#transformationPostExecutionHook(timeseriesfe)\n",
    "\n",
    "except Exception as ex: \n",
    "\tlogging.error(ex)\n"
   ]
  },
  {
   "cell_type": "markdown",
   "id": "4bfd6473",
   "metadata": {},
   "source": [
    "***TRAIN MODEL***"
   ]
  },
  {
   "cell_type": "code",
   "execution_count": null,
   "id": "66515be2",
   "metadata": {},
   "outputs": [],
   "source": [
    "#%run sstoresarimaHooks.ipynb\n",
    "try:\n",
    "\t#mlPreExecutionHook()\n",
    "\n",
    "\tmodel = driverArima(timeseriesfe)\n",
    "\n",
    "\t#mlPostExecutionHook(model)\n",
    "\n",
    "except Exception as ex: \n",
    "\tlogging.error(ex)\n",
    "#spark.stop()\n"
   ]
  },
  {
   "cell_type": "markdown",
   "id": "00508b9c",
   "metadata": {},
   "source": [
    "***PREDICT ON TRAINED MODEL***"
   ]
  },
  {
   "cell_type": "code",
   "execution_count": null,
   "id": "5883c920",
   "metadata": {},
   "outputs": [],
   "source": [
    "try:\n",
    "    model=modelData['model']\n",
    "    X_label=modelData['X_label']\n",
    "    y_label=modelData['y_label']\n",
    "    plt.clf()\n",
    "    model.plot_predict(1,264 )\n",
    "    plt.title('Trending Graphs')\n",
    "    plt.xlabel(X_label )\n",
    "    plt.ylabel(y_label )\n",
    "    plt.grid(color='lightgray')\n",
    "    display()\n",
    "except Exception as ex:\n",
    "    logging.error(ex)\n",
    "\n"
   ]
  }
 ],
 "metadata": {},
 "nbformat": 4,
 "nbformat_minor": 5
}
